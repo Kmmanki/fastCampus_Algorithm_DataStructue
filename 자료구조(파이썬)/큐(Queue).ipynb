{
 "cells": [
  {
   "cell_type": "markdown",
   "metadata": {},
   "source": [
    "# 1. 큐의 구조 \n",
    "    - first-in-first-out 선입 선출 방식\n",
    "    - stack과 정 반대 "
   ]
  },
  {
   "cell_type": "markdown",
   "metadata": {},
   "source": [
    "### 일반적인 FIFO 큐 만들기"
   ]
  },
  {
   "cell_type": "code",
   "execution_count": 1,
   "metadata": {},
   "outputs": [],
   "source": [
    "import queue\n",
    "data_queue = queue.Queue()"
   ]
  },
  {
   "cell_type": "code",
   "execution_count": 11,
   "metadata": {},
   "outputs": [
    {
     "name": "stdout",
     "output_type": "stream",
     "text": [
      "String\n",
      "1\n"
     ]
    }
   ],
   "source": [
    "data_queue.put('String')\n",
    "data_queue.put(1)\n",
    "print(data_queue.get())\n",
    "print(data_queue.get())"
   ]
  },
  {
   "cell_type": "markdown",
   "metadata": {},
   "source": [
    "#### LiFO Queue만들기 (Last-in First-out)"
   ]
  },
  {
   "cell_type": "code",
   "execution_count": 12,
   "metadata": {},
   "outputs": [],
   "source": [
    "import queue\n",
    "data_queue = queue.LifoQueue()\n",
    "data_queue.put('String')\n",
    "data_queue.put('1')"
   ]
  },
  {
   "cell_type": "code",
   "execution_count": 13,
   "metadata": {},
   "outputs": [
    {
     "name": "stdout",
     "output_type": "stream",
     "text": [
      "1\n",
      "String\n"
     ]
    }
   ],
   "source": [
    "print(data_queue.get())\n",
    "print(data_queue.get())"
   ]
  },
  {
   "cell_type": "markdown",
   "metadata": {},
   "source": [
    "#### PriorityQueue 만들기(우선순위 큐)"
   ]
  },
  {
   "cell_type": "code",
   "execution_count": 14,
   "metadata": {},
   "outputs": [],
   "source": [
    "import queue\n",
    "data_queue = queue.PriorityQueue()\n"
   ]
  },
  {
   "cell_type": "code",
   "execution_count": 15,
   "metadata": {},
   "outputs": [],
   "source": [
    "#put의 파라미터로 튜플을 받는다 튜블은 (우선순위, 값)으로 받는다 즉 우선순위 10 ㅇ\u001b\n",
    "data_queue.put((10, \"korea\"))\n",
    "data_queue.put((5, 1))\n",
    "data_queue.put((15, \"china\"))"
   ]
  },
  {
   "cell_type": "code",
   "execution_count": 16,
   "metadata": {},
   "outputs": [
    {
     "name": "stdout",
     "output_type": "stream",
     "text": [
      "(5, 1)\n"
     ]
    }
   ],
   "source": [
    "#숫자가 낮을 수록 우선순위가 높다 우선순위는 1 > korea > china\n",
    "print(data_queue.get())"
   ]
  },
  {
   "cell_type": "code",
   "execution_count": 17,
   "metadata": {},
   "outputs": [
    {
     "name": "stdout",
     "output_type": "stream",
     "text": [
      "korea\n"
     ]
    }
   ],
   "source": [
    "print(data_queue.get()[1])"
   ]
  },
  {
   "cell_type": "markdown",
   "metadata": {},
   "source": [
    "### 연습 리스트로 큐 만들기 "
   ]
  },
  {
   "cell_type": "code",
   "execution_count": 69,
   "metadata": {},
   "outputs": [],
   "source": [
    "class queue_list:\n",
    "    q_list = list()\n",
    "\n",
    "    max = 0\n",
    "    \n",
    "    def enqueue(self,data):\n",
    "        self.q_list.append(data)\n",
    "        self.max += 1\n",
    "     \n",
    "    def dequeue(self):\n",
    "        \n",
    "        tmp = self.q_list[0]\n",
    "        del self.q_list[0]\n",
    "        return tmp\n",
    "        \n"
   ]
  },
  {
   "cell_type": "code",
   "execution_count": 70,
   "metadata": {},
   "outputs": [
    {
     "name": "stdout",
     "output_type": "stream",
     "text": [
      "1\n",
      "2\n"
     ]
    }
   ],
   "source": [
    "tmp_queue = queue_list()\n",
    "tmp_queue.enqueue(1)\n",
    "tmp_queue.enqueue(2)\n",
    "print(tmp_queue.dequeue())\n",
    "print(tmp_queue.dequeue())"
   ]
  },
  {
   "cell_type": "code",
   "execution_count": null,
   "metadata": {},
   "outputs": [],
   "source": []
  },
  {
   "cell_type": "code",
   "execution_count": null,
   "metadata": {},
   "outputs": [],
   "source": []
  }
 ],
 "metadata": {
  "kernelspec": {
   "display_name": "Python 3",
   "language": "python",
   "name": "python3"
  },
  "language_info": {
   "codemirror_mode": {
    "name": "ipython",
    "version": 3
   },
   "file_extension": ".py",
   "mimetype": "text/x-python",
   "name": "python",
   "nbconvert_exporter": "python",
   "pygments_lexer": "ipython3",
   "version": "3.8.3"
  }
 },
 "nbformat": 4,
 "nbformat_minor": 4
}
