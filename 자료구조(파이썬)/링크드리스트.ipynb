{
 "cells": [
  {
   "cell_type": "markdown",
   "metadata": {},
   "source": [
    "# 링크드리스트\n",
    "    배열은 물리적으로 순차적인 장소에 저장\n",
    "    링크드리스트는 비순차적인 물리적 장소에 저장\n",
    "        그렇기 때문에 다음 위치에 대한 주소가 필요 \n",
    "        즉 링크드리스트의 node라는 것은 데이터 + 다음 노드의 주소로 이루어짐(pointer)\n",
    "    장점\n",
    "        배열의 경우 증감을 위해 순차적인 물리적인 공간이 필요하여 새로 만들어야하지만 링크드리스트이 경우 떻어진 공간에 노드를 추가하면됨\n",
    "    단점\n",
    "        노드가 물리적으로 떨어진 곳에 위치해 있기 때문에 검색이 느림\n",
    "        "
   ]
  },
  {
   "cell_type": "markdown",
   "metadata": {},
   "source": [
    "#### 간단한 링크드 리스트 구현"
   ]
  },
  {
   "cell_type": "code",
   "execution_count": 30,
   "metadata": {},
   "outputs": [],
   "source": [
    "class Node:\n",
    "    \n",
    "    def __init__(self,data, next = None):\n",
    "        self.data = data\n",
    "        self.next =next\n",
    "        \n",
    "def add(data):\n",
    "    node = head\n",
    "    while node.next:\n",
    "        node = node.next\n",
    "    node.next = Node(data)"
   ]
  },
  {
   "cell_type": "code",
   "execution_count": 43,
   "metadata": {},
   "outputs": [],
   "source": [
    "node1 = Node(1)\n",
    "node2 = Node(2)\n",
    "node1.next = node2\n",
    "head = node1\n",
    "for index in range(3, 10):\n",
    "    add(index)"
   ]
  },
  {
   "cell_type": "code",
   "execution_count": 44,
   "metadata": {},
   "outputs": [
    {
     "name": "stdout",
     "output_type": "stream",
     "text": [
      "1\n",
      "2\n",
      "3\n",
      "4\n",
      "5\n",
      "6\n",
      "7\n",
      "8\n",
      "9\n"
     ]
    }
   ],
   "source": [
    "node = head\n",
    "while node.next:\n",
    "    print(node.data)\n",
    "    node = node.next\n",
    "print(node.data)"
   ]
  },
  {
   "cell_type": "code",
   "execution_count": 45,
   "metadata": {},
   "outputs": [],
   "source": [
    "## 중간삽입을 위해서는 노드를 밀어야한다.\n",
    "insertNode = Node(1.5)\n",
    "\n",
    "node = head \n",
    "search = True\n",
    "while search:\n",
    "    if node.data == 1:\n",
    "        search = False\n",
    "        insertNode.next = node.next\n",
    "        node.next = insertNode\n",
    "    else:\n",
    "        node = node.next"
   ]
  },
  {
   "cell_type": "code",
   "execution_count": 46,
   "metadata": {},
   "outputs": [
    {
     "name": "stdout",
     "output_type": "stream",
     "text": [
      "1\n",
      "1.5\n",
      "2\n",
      "3\n",
      "4\n",
      "5\n",
      "6\n",
      "7\n",
      "8\n",
      "9\n"
     ]
    }
   ],
   "source": [
    "node = head\n",
    "while node.next:\n",
    "    print(node.data)\n",
    "    node = node.next\n",
    "print(node.data)"
   ]
  },
  {
   "cell_type": "code",
   "execution_count": 2,
   "metadata": {},
   "outputs": [],
   "source": [
    "   \n",
    "class Node:\n",
    "    def __init__(self,data, next = None):\n",
    "        \n",
    "        self.data = data\n",
    "        self.next = next\n",
    "        \n",
    "class NodeMgmt:\n",
    "    def __init__(self, data):\n",
    "        self.head = Node(data)\n",
    "        \n",
    "    def add (self, data):\n",
    "        \n",
    "        if self.head == '':\n",
    "            self.head = Node(data)\n",
    "        else:\n",
    "            node = self.head\n",
    "            \n",
    "            while node.next:\n",
    "                node = node.next\n",
    "\n",
    "            node.next = Node(data)\n",
    "            \n",
    "                \n",
    "    def desc (self):\n",
    "        node = self.head \n",
    "        while node:\n",
    "            print(node.data)\n",
    "            node = node.next"
   ]
  },
  {
   "cell_type": "code",
   "execution_count": 4,
   "metadata": {},
   "outputs": [
    {
     "name": "stdout",
     "output_type": "stream",
     "text": [
      "0\n"
     ]
    }
   ],
   "source": [
    "list3 = NodeMgmt(0)\n",
    "list3.desc()"
   ]
  },
  {
   "cell_type": "code",
   "execution_count": 5,
   "metadata": {},
   "outputs": [],
   "source": [
    "for i in range(1,10):\n",
    "    list3.add(i)"
   ]
  },
  {
   "cell_type": "code",
   "execution_count": 6,
   "metadata": {},
   "outputs": [
    {
     "name": "stdout",
     "output_type": "stream",
     "text": [
      "0\n",
      "1\n",
      "2\n",
      "3\n",
      "4\n",
      "5\n",
      "6\n",
      "7\n",
      "8\n",
      "9\n"
     ]
    }
   ],
   "source": [
    "list3.desc()"
   ]
  },
  {
   "cell_type": "code",
   "execution_count": 43,
   "metadata": {},
   "outputs": [],
   "source": [
    "   ## 삭제 추가\n",
    "class Node:\n",
    "    def __init__(self,data, next = None):\n",
    "        \n",
    "        self.data = data\n",
    "        self.next = next\n",
    "        \n",
    "class NodeMgmt:\n",
    "    def __init__(self, data):\n",
    "        self.head = Node(data)\n",
    "        \n",
    "    def add (self, data):\n",
    "        \n",
    "        if self.head == '':\n",
    "            self.head = Node(data)\n",
    "        else:\n",
    "            node = self.head\n",
    "            \n",
    "            while node.next:\n",
    "                node = node.next\n",
    "\n",
    "            node.next = Node(data)\n",
    "            \n",
    "                \n",
    "    def desc (self):\n",
    "        node = self.head \n",
    "        while node:\n",
    "            print(node.data)\n",
    "            node = node.next\n",
    "            \n",
    "    def delete(self, data):\n",
    "        if self.head=='':\n",
    "            print(\"해당 값을 가지는 노드가 없습니다.\")\n",
    "            return\n",
    "        else:\n",
    "            \n",
    "            if self.head.data == data:\n",
    "                tmp = self.head\n",
    "                self.head = self.head.next\n",
    "                del tmp\n",
    "            else:\n",
    "                node = self.head\n",
    "                while node.next:\n",
    "                    if node.next.data == data:\n",
    "                        tmp = node.next\n",
    "                        node.next =node.next.next\n",
    "                        del tmp\n",
    "                        return\n",
    "                    else:\n",
    "                        node = node.next"
   ]
  },
  {
   "cell_type": "code",
   "execution_count": 18,
   "metadata": {},
   "outputs": [
    {
     "name": "stdout",
     "output_type": "stream",
     "text": [
      "0\n"
     ]
    }
   ],
   "source": [
    "linkedList1 = NodeMgmt(0)\n",
    "linkedList1.desc()"
   ]
  },
  {
   "cell_type": "code",
   "execution_count": 19,
   "metadata": {},
   "outputs": [
    {
     "data": {
      "text/plain": [
       "<__main__.Node at 0x7ff730757ca0>"
      ]
     },
     "execution_count": 19,
     "metadata": {},
     "output_type": "execute_result"
    }
   ],
   "source": [
    "linkedList1.head"
   ]
  },
  {
   "cell_type": "code",
   "execution_count": 20,
   "metadata": {},
   "outputs": [],
   "source": [
    "linkedList1.delete(0)"
   ]
  },
  {
   "cell_type": "code",
   "execution_count": 21,
   "metadata": {},
   "outputs": [],
   "source": [
    "linkedList1.head"
   ]
  },
  {
   "cell_type": "code",
   "execution_count": 44,
   "metadata": {},
   "outputs": [],
   "source": [
    "linkedList2 = NodeMgmt(0)\n",
    "for i in range(1,10):\n",
    "    \n",
    "    linkedList2.add(i)"
   ]
  },
  {
   "cell_type": "code",
   "execution_count": 45,
   "metadata": {},
   "outputs": [
    {
     "name": "stdout",
     "output_type": "stream",
     "text": [
      "0\n",
      "1\n",
      "2\n",
      "3\n",
      "4\n",
      "5\n",
      "6\n",
      "7\n",
      "8\n",
      "9\n"
     ]
    }
   ],
   "source": [
    "linkedList2.desc()"
   ]
  },
  {
   "cell_type": "code",
   "execution_count": 46,
   "metadata": {},
   "outputs": [],
   "source": [
    "linkedList2.delete(9)"
   ]
  },
  {
   "cell_type": "code",
   "execution_count": 47,
   "metadata": {},
   "outputs": [
    {
     "name": "stdout",
     "output_type": "stream",
     "text": [
      "0\n",
      "1\n",
      "2\n",
      "3\n",
      "4\n",
      "5\n",
      "6\n",
      "7\n",
      "8\n"
     ]
    }
   ],
   "source": [
    "linkedList2.desc()"
   ]
  },
  {
   "cell_type": "code",
   "execution_count": 48,
   "metadata": {},
   "outputs": [
    {
     "name": "stdout",
     "output_type": "stream",
     "text": [
      "0\n",
      "1\n",
      "2\n",
      "4\n",
      "5\n",
      "6\n",
      "7\n",
      "8\n"
     ]
    }
   ],
   "source": [
    "linkedList2.delete(3)\n",
    "linkedList2.desc()"
   ]
  },
  {
   "cell_type": "code",
   "execution_count": 49,
   "metadata": {},
   "outputs": [],
   "source": [
    "   ## 특정 값 찾기 추가\n",
    "    \n",
    "class Node:\n",
    "    def __init__(self,data, next = None):\n",
    "        \n",
    "        self.data = data\n",
    "        self.next = next\n",
    "        \n",
    "class NodeMgmt:\n",
    "    def __init__(self, data):\n",
    "        self.head = Node(data)\n",
    "        \n",
    "    def add (self, data):\n",
    "        \n",
    "        if self.head == '':\n",
    "            self.head = Node(data)\n",
    "        else:\n",
    "            node = self.head\n",
    "            \n",
    "            while node.next:\n",
    "                node = node.next\n",
    "\n",
    "            node.next = Node(data)\n",
    "            \n",
    "                \n",
    "    def desc (self):\n",
    "        node = self.head \n",
    "        while node:\n",
    "            print(node.data)\n",
    "            node = node.next\n",
    "            \n",
    "    def delete(self, data):\n",
    "        if self.head=='':\n",
    "            print(\"해당 값을 가지는 노드가 없습니다.\")\n",
    "            return\n",
    "        else:\n",
    "            \n",
    "            if self.head.data == data:\n",
    "                tmp = self.head\n",
    "                self.head = self.head.next\n",
    "                del tmp\n",
    "            else:\n",
    "                node = self.head\n",
    "                while node.next:\n",
    "                    if node.next.data == data:\n",
    "                        tmp = node.next\n",
    "                        node.next =node.next.next\n",
    "                        del tmp\n",
    "                        return\n",
    "                    else:\n",
    "                        node = node.next\n",
    "    \n",
    "    def search(self, data):\n",
    "        node = self.head\n",
    "        while node:\n",
    "            if node.data == data:\n",
    "                return node\n",
    "            else:\n",
    "                node = node.next"
   ]
  },
  {
   "cell_type": "code",
   "execution_count": 50,
   "metadata": {},
   "outputs": [
    {
     "name": "stdout",
     "output_type": "stream",
     "text": [
      "0\n",
      "1\n",
      "2\n",
      "3\n",
      "4\n",
      "5\n",
      "6\n",
      "7\n",
      "8\n",
      "9\n"
     ]
    }
   ],
   "source": [
    "linkedList3 = NodeMgmt(0)\n",
    "for i in range(1, 10):\n",
    "    linkedList3.add(i)\n",
    "linkedList3.desc()"
   ]
  },
  {
   "cell_type": "code",
   "execution_count": 52,
   "metadata": {},
   "outputs": [
    {
     "name": "stdout",
     "output_type": "stream",
     "text": [
      "5\n",
      "9\n"
     ]
    }
   ],
   "source": [
    "node = linkedList3.search(5)\n",
    "print(node.data)\n",
    "node = linkedList3.search(9)\n",
    "print(node.data)"
   ]
  },
  {
   "cell_type": "markdown",
   "metadata": {},
   "source": [
    "## 더블링크드 리스트\n",
    "    기존의 링크드리스트는 Head부터 순차적으로 진행해야 한다. EX) 9000번 찾기 1 -> 2 .... 90000 ... 99999\n",
    "    그래서 나온 것이 뒤부터 검색이 가능한 구조의 더블 링크드 리스트\n",
    "    Node\n",
    "    {\n",
    "       이전 링크 주소\n",
    "       데이터\n",
    "       이후 링크 주소\n",
    "    }\n",
    "    NodeMgmt\n",
    "    {\n",
    "        head\n",
    "        tail\n",
    "    }"
   ]
  },
  {
   "cell_type": "code",
   "execution_count": 63,
   "metadata": {},
   "outputs": [],
   "source": [
    "class Node:\n",
    "    def __init__(self, data, prev =None, next = None):\n",
    "        self.data = data\n",
    "        self.prev = prev\n",
    "        self.next = next\n",
    "        \n",
    "class NodeMgmt:\n",
    "    def __init__(self, data):\n",
    "        self.head = Node(data);\n",
    "        self.tail = self.head\n",
    "        \n",
    "    def insert(self, data):\n",
    "        if self.head == '':\n",
    "            self.head = Node(data)\n",
    "        \n",
    "        node = self.head\n",
    "        \n",
    "        while node.next:\n",
    "            node = node.next\n",
    "            \n",
    "        node.next = Node(data, node)\n",
    "        self.tail = node.next\n",
    "        \n",
    "    def desc(self):\n",
    "        node = self.head \n",
    "        while node:\n",
    "            print(node.data)\n",
    "            node = node.next\n",
    "\n",
    "    def asc(self):\n",
    "        node = self.tail\n",
    "        while node:\n",
    "            print(node.data)\n",
    "            node = node.prev"
   ]
  },
  {
   "cell_type": "code",
   "execution_count": 64,
   "metadata": {},
   "outputs": [
    {
     "name": "stdout",
     "output_type": "stream",
     "text": [
      "0\n",
      "1\n",
      "0\n",
      "1\n",
      "=====================================\n",
      "0\n",
      "1\n",
      "2\n",
      "3\n",
      "4\n",
      "5\n",
      "6\n",
      "7\n",
      "8\n",
      "9\n",
      "10\n",
      "11\n",
      "12\n",
      "13\n",
      "14\n",
      "15\n",
      "16\n",
      "17\n",
      "18\n",
      "19\n",
      "20\n",
      "=====================================\n",
      "20\n",
      "19\n",
      "18\n",
      "17\n",
      "16\n",
      "15\n",
      "14\n",
      "13\n",
      "12\n",
      "11\n",
      "10\n",
      "9\n",
      "8\n",
      "7\n",
      "6\n",
      "5\n",
      "4\n",
      "3\n",
      "2\n",
      "1\n",
      "0\n"
     ]
    }
   ],
   "source": [
    "M = NodeMgmt(0)\n",
    "M.insert(1)\n",
    "\n",
    "node =M.head\n",
    "print(node.data)\n",
    "node = node.next\n",
    "print(node.data)\n",
    "node = node.prev\n",
    "print(node.data)\n",
    "node = M.tail\n",
    "print(node.data)\n",
    "\n",
    "print( '=====================================')\n",
    "for i in range(2, 21):\n",
    "    M.insert(i)\n",
    "    \n",
    "M.desc()\n",
    "print( '=====================================')\n",
    "M.asc()"
   ]
  },
  {
   "cell_type": "code",
   "execution_count": 20,
   "metadata": {},
   "outputs": [],
   "source": [
    "##1~ 10 이 있을 때 3.5를 추가하는 함수 만들기\n",
    "class Node:\n",
    "    def __init__(self, data, prev =None, next = None):\n",
    "        self.data = data\n",
    "        self.prev = prev\n",
    "        self.next = next\n",
    "        \n",
    "class NodeMgmt:\n",
    "    def __init__(self, data):\n",
    "        self.head = Node(data);\n",
    "        self.tail = self.head\n",
    "        \n",
    "    def insert(self, data):\n",
    "        if self.head == '':\n",
    "            self.head = Node(data)\n",
    "        \n",
    "        node = self.head\n",
    "        \n",
    "        while node.next:\n",
    "            node = node.next\n",
    "            \n",
    "        node.next = Node(data, node)\n",
    "        self.tail = node.next\n",
    "        \n",
    "    def prevInsert(self, data, target ):\n",
    "        if self.head == '':\n",
    "            self.head = Node(data)\n",
    "        \n",
    "        if target == '':\n",
    "            print(1)\n",
    "            self.tail.next = Node(data, tail)\n",
    "            self.tail = self.tail.next\n",
    "        else:\n",
    "            node = self.head\n",
    "            \n",
    "            while node:\n",
    "                if node.data == target:\n",
    "                    print('data:', data)\n",
    "                    print('target: ', target)\n",
    "                    print('prev:', node.prev.data)\n",
    "                    print('next:', node.data)\n",
    "                    tmp = node.prev.prev\n",
    "                    node.prev = Node(data,node.prev, node)\n",
    "                    tmp.next = node.prev\n",
    "                    return\n",
    "                else:\n",
    "                    node = node.next\n",
    "        \n",
    "    def desc(self):\n",
    "        node = self.head \n",
    "        while node:\n",
    "            print(node.data)\n",
    "            node = node.next\n",
    "\n",
    "    def asc(self):\n",
    "        node = self.tail\n",
    "        while node:\n",
    "            print(node.data)\n",
    "            node = node.prev"
   ]
  },
  {
   "cell_type": "code",
   "execution_count": 21,
   "metadata": {},
   "outputs": [
    {
     "name": "stdout",
     "output_type": "stream",
     "text": [
      "0\n",
      "1\n",
      "0\n",
      "1\n",
      "=====================================\n",
      "0\n",
      "1\n",
      "2\n",
      "3\n",
      "4\n",
      "5\n",
      "6\n",
      "7\n",
      "8\n",
      "9\n",
      "10\n",
      "11\n",
      "12\n",
      "13\n",
      "14\n",
      "15\n",
      "16\n",
      "17\n",
      "18\n",
      "19\n",
      "20\n",
      "=====================================\n",
      "20\n",
      "19\n",
      "18\n",
      "17\n",
      "16\n",
      "15\n",
      "14\n",
      "13\n",
      "12\n",
      "11\n",
      "10\n",
      "9\n",
      "8\n",
      "7\n",
      "6\n",
      "5\n",
      "4\n",
      "3\n",
      "2\n",
      "1\n",
      "0\n"
     ]
    }
   ],
   "source": [
    "M = NodeMgmt(0)\n",
    "M.insert(1)\n",
    "\n",
    "node =M.head\n",
    "print(node.data)\n",
    "node = node.next\n",
    "print(node.data)\n",
    "node = node.prev\n",
    "print(node.data)\n",
    "node = M.tail\n",
    "print(node.data)\n",
    "\n",
    "print( '=====================================')\n",
    "for i in range(2, 21):\n",
    "    M.insert(i)\n",
    "    \n",
    "M.desc()\n",
    "print( '=====================================')\n",
    "M.asc()"
   ]
  },
  {
   "cell_type": "code",
   "execution_count": 22,
   "metadata": {},
   "outputs": [
    {
     "name": "stdout",
     "output_type": "stream",
     "text": [
      "data: 3.5\n",
      "target:  4\n",
      "prev: 3\n",
      "next: 4\n"
     ]
    }
   ],
   "source": [
    "M.prevInsert(3.5,4)"
   ]
  },
  {
   "cell_type": "code",
   "execution_count": 24,
   "metadata": {},
   "outputs": [
    {
     "name": "stdout",
     "output_type": "stream",
     "text": [
      "0\n",
      "1\n",
      "2\n",
      "3.5\n",
      "4\n",
      "5\n",
      "6\n",
      "7\n",
      "8\n",
      "9\n",
      "10\n",
      "11\n",
      "12\n",
      "13\n",
      "14\n",
      "15\n",
      "16\n",
      "17\n",
      "18\n",
      "19\n",
      "20\n",
      "20\n",
      "19\n",
      "18\n",
      "17\n",
      "16\n",
      "15\n",
      "14\n",
      "13\n",
      "12\n",
      "11\n",
      "10\n",
      "9\n",
      "8\n",
      "7\n",
      "6\n",
      "5\n",
      "4\n",
      "3.5\n",
      "3\n",
      "2\n",
      "1\n",
      "0\n"
     ]
    }
   ],
   "source": [
    "M.desc()\n",
    "M.asc()"
   ]
  },
  {
   "cell_type": "code",
   "execution_count": null,
   "metadata": {},
   "outputs": [],
   "source": []
  }
 ],
 "metadata": {
  "kernelspec": {
   "display_name": "Python 3",
   "language": "python",
   "name": "python3"
  },
  "language_info": {
   "codemirror_mode": {
    "name": "ipython",
    "version": 3
   },
   "file_extension": ".py",
   "mimetype": "text/x-python",
   "name": "python",
   "nbconvert_exporter": "python",
   "pygments_lexer": "ipython3",
   "version": "3.8.3"
  }
 },
 "nbformat": 4,
 "nbformat_minor": 4
}
